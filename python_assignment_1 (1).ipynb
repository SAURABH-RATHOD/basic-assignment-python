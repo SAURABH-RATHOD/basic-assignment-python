{
 "cells": [
  {
   "cell_type": "code",
   "execution_count": null,
   "metadata": {
    "id": "vuoFDAQ7bx17"
   },
   "outputs": [],
   "source": [
    "# PYTHON BASIC QUESTIONS THEORTICAL :-"
   ]
  },
  {
   "cell_type": "markdown",
   "metadata": {
    "id": "9Zru5MfEb5KX"
   },
   "source": [
    "**Q.1 What is python, and why is it popular?**\n",
    "ANS - python is a high-level ,interpreted programming language known for its readdabilty and versality . its popular beacause of its simple syntas, large community , extensive liabries and wide applicability, including web development, data analysis, AI, and more.\n",
    "\n",
    "\n"
   ]
  },
  {
   "cell_type": "markdown",
   "metadata": {
    "id": "PmvVTlIBf2OY"
   },
   "source": [
    "**Q.2 What is an interpreter inpython ?**\n",
    "ANS - An interpreter is a program that executes python code line-by-line, allowing you to run scripts interactively.this makes it easier to debug and develop code quickly."
   ]
  },
  {
   "cell_type": "markdown",
   "metadata": {
    "id": "RUoUAz-GeUhV"
   },
   "source": [
    "**Q.3 What are pre-defined keywords in python?**\n",
    "ANS- Pre-defined keyword in python are reserved words that have a specific meaning language. examples include if, else, for, while, true, and false."
   ]
  },
  {
   "cell_type": "markdown",
   "metadata": {
    "id": "aSPOMbIAhtaC"
   },
   "source": [
    "**Q.4 Can keywords be used as variable names?**\n",
    "ANS- No, keywords cannot be used as variables names as they are reserved by python for specific functionalitites."
   ]
  },
  {
   "cell_type": "markdown",
   "metadata": {
    "id": "AKVdVs08iSDJ"
   },
   "source": [
    "**Q.5 What is mutability in python?**\n",
    "ANS - Mutability refers to an objects ability to change its state or content after creation. for example, lists are mutable, while tuples are immtable."
   ]
  },
  {
   "cell_type": "markdown",
   "metadata": {
    "id": "QUPbVeByi4sW"
   },
   "source": [
    "**Q.6 Why are lists mutable, but tuples are immutable?**\n",
    "ANS - Lists are designed to be flexible, so they allow modififcation of elements . tuples, on the other hand, are designed as fixed collections, making them faster and safer in scenarios where data should not change."
   ]
  },
  {
   "cell_type": "markdown",
   "metadata": {
    "id": "afjMg0x7k8sP"
   },
   "source": [
    "**Q.7 What is the difference between \"==\" and \"is\" operator in python?**\n",
    "ANS - \"==\" checks if the values of two objects  are equal, while \"is\" checks if two variables points to the same memory location (i.e., if they are the same objects)."
   ]
  },
  {
   "cell_type": "markdown",
   "metadata": {
    "id": "BHFAnULclvQL"
   },
   "source": [
    "**Q.8 What are logical operators in python?**\n",
    "ANS - Logical operators are used to combine multiple conditions and include and,or,and not."
   ]
  },
  {
   "cell_type": "markdown",
   "metadata": {
    "id": "y-6nOG2NmHN1"
   },
   "source": [
    "**Q.9 What is type casting in python?**\n",
    "ANS- Type casting is the conservison of one data type to another, such as converting an integer to a string or a float."
   ]
  },
  {
   "cell_type": "markdown",
   "metadata": {
    "id": "TSCHO_CdmkS1"
   },
   "source": [
    "**Q.10 What is the difference between implicit and explicit type casting?**\n",
    "ANS - Implicit casting is done automatically by python , while explici casting requires the use of functions like int(),float(),or str() to convert between types."
   ]
  },
  {
   "cell_type": "markdown",
   "metadata": {
    "id": "SmWoY7hengdN"
   },
   "source": [
    "**Q.11 What is the purpose of conditional statements in python?**\n",
    "ANS- Conditional statements, such as if, alif, and else, allow python to execute certain blocks of code based on whether a condition is true or false."
   ]
  },
  {
   "cell_type": "markdown",
   "metadata": {
    "id": "XRb0f9DLoQyg"
   },
   "source": [
    "**Q.12 How does the elif statements work?**\n",
    "ANS - The elif statements provide additional conditions after an initial if. it is only executed if or elif condition was false"
   ]
  },
  {
   "cell_type": "markdown",
   "metadata": {
    "id": "zXOfnkRHo-HL"
   },
   "source": [
    "**Q.13 What is the difference between for and while loops?**\n",
    "ANS - A for loop is typically used when you know the number of iterations in advance, while a while loop is used when the number of iterations depends on acondition."
   ]
  },
  {
   "cell_type": "markdown",
   "metadata": {
    "id": "cLCT159DppsJ"
   },
   "source": [
    "**Q.14 Describe a scenario where a while lop is more suitable than a for loop.**\n",
    "ANS- A while loop is ideal when you want to continue looping until a specific conditions is met, like waiting for user input or monitoring a process until it completes"
   ]
  },
  {
   "cell_type": "code",
   "execution_count": 1,
   "metadata": {
    "id": "GKjOjrrPtRzt"
   },
   "outputs": [],
   "source": [
    "#python basics - practical questions"
   ]
  },
  {
   "cell_type": "code",
   "execution_count": null,
   "metadata": {
    "id": "_u64GEHttgRy"
   },
   "outputs": [],
   "source": [
    "Q1. write a python program to print \"hello, world!\"\n",
    "\n",
    "[] print(\"hello, world!\")"
   ]
  },
  {
   "cell_type": "code",
   "execution_count": null,
   "metadata": {
    "id": "utz4HkJ8uUvz"
   },
   "outputs": [],
   "source": [
    "Q.2 write a python program that displays your name and age\n",
    "name = \"saurabh rathod\"\n",
    "age = 24\n",
    "print (\"my name is {name} and i am {age} years old.\")"
   ]
  },
  {
   "cell_type": "code",
   "execution_count": null,
   "metadata": {
    "id": "jl8rzAybvDcz"
   },
   "outputs": [],
   "source": [
    "Q.3 write code to print all the pre- defined keywords in python using the keyword library.\n",
    "\n",
    "[] import keyword\n",
    "print(keyword.kwlist)"
   ]
  },
  {
   "cell_type": "code",
   "execution_count": null,
   "metadata": {
    "id": "DvlllUX5vt2G"
   },
   "outputs": [],
   "source": [
    "Q4.write a program that checks if a given word is a python keyword.\n",
    "\n",
    " [] import keyword\n",
    "    word = input(\"enter a word:\")\n",
    "    if keyword. iskeyword(word):\n",
    "      print(\"{word} is a python keyword.\")\n",
    "  else:\n",
    "       print (\"{word} is not a python keyword.\")"
   ]
  },
  {
   "cell_type": "code",
   "execution_count": null,
   "metadata": {
    "id": "aVsCwooBxGRZ"
   },
   "outputs": [],
   "source": [
    " Q5. create a list and tuple in python, and demonstrate how attempting to change an element work differently for each\n",
    "\n",
    " [] my_list = [1,2,3]\n",
    "   my tuple = (1,2,3)\n",
    "\n",
    "   #modifying list\n",
    "   my list[0]= 10\n",
    "   print (\"modified list:\", my_list)\n",
    "\n",
    "   #trying to modify tuple\n",
    "   try:\n",
    "       my_tuple[0]=10\n",
    "       expect typeerror as e:\n",
    "       print (\"error:\",e)"
   ]
  },
  {
   "cell_type": "code",
   "execution_count": null,
   "metadata": {
    "id": "u3bYlW_SzbxC"
   },
   "outputs": [],
   "source": [
    "Q6. Write a function to demonstrate the behavior of mutable and immutable arguments.\n",
    "\n",
    "[] def modify_list(1st):\n",
    "1st.append(4)\n",
    "\n",
    "def modify_string(s):\n",
    "  s += \"world\"\n",
    "\n",
    "  my_list =[1,2,3]\n",
    "  my_string = \"hello\"\n",
    "\n",
    "  modify_list(my_list)\n",
    "  print(\"string after function call:\",my_string)"
   ]
  },
  {
   "cell_type": "code",
   "execution_count": null,
   "metadata": {
    "id": "KsWWSAS-0iJX"
   },
   "outputs": [],
   "source": [
    "Q7. Write a program that performs basic arithmetic operations on two user-input numbers.\n",
    "\n",
    "[] num1 + int(input(\"enter first number\"))\n",
    "num2= int(input(\"enter second number\"))\n",
    "print(\"addition:\", num1-num2)\n",
    "print(\"dividon:\", num1/ num2 if num2 !=0 else \"cannot diveded by zero\")"
   ]
  },
  {
   "cell_type": "code",
   "execution_count": null,
   "metadata": {},
   "outputs": [],
   "source": [
    "Q8. Write a program to demonstrate the use of logical operators.\n",
    "\n",
    "[ ]\n",
    "x = true\n",
    "y = false\n",
    "print(\"x and y:\", x and y)\n",
    "print(\"x or y:\", x or y)\n",
    "print(\"not x:\", not x)"
   ]
  },
  {
   "cell_type": "code",
   "execution_count": null,
   "metadata": {},
   "outputs": [],
   "source": [
    "Q9. Write a Python program to convert user input from string to integer, float, and boolean types.\n",
    "[ ]\n",
    "user_input = input(\"enter a number:\")\n",
    "\n",
    "int_val = int(user_input)\n",
    "float_val = float(user_input)\n",
    "bool_val = bool(int_val)\n",
    "\n",
    "print(\"integer:\", int_val)\n",
    "print(\"float:\", float_val)\n",
    "print(\"boolean:\", bool_val)"
   ]
  },
  {
   "cell_type": "code",
   "execution_count": null,
   "metadata": {},
   "outputs": [],
   "source": [
    "Q10. Write code to demonstrate type casting with list elements.\n",
    "[] str_list = [\"1\", \"2\", \"3\"]\n",
    "int_list = list(map(int,str_list))\n",
    "print(\"list of integers:\",int_list)"
   ]
  },
  {
   "cell_type": "code",
   "execution_count": null,
   "metadata": {},
   "outputs": [],
   "source": [
    "Q11. Write a program that checks if a number is positive, negative, or zero.\n",
    "[] num = float(input(\"enter a number:\"))\n",
    "if num> 0:\n",
    "    print(\"positive\")\n",
    "    elif num < 0:\n",
    "        print (\"negative\")\n",
    "    elif:\n",
    "        print(\"zero\")    "
   ]
  },
  {
   "cell_type": "code",
   "execution_count": null,
   "metadata": {},
   "outputs": [],
   "source": [
    "Q12. Write a for loop to print numbers from 1 to 10.\n",
    "\n",
    "for i in range(1, 11):\n",
    "    print(i)\n",
    "\n",
    "\n",
    "\n"
   ]
  },
  {
   "cell_type": "code",
   "execution_count": null,
   "metadata": {},
   "outputs": [],
   "source": [
    "Q13. Write a Python program to find the sum of all even numbers between 1 and 50.\n",
    "[] total = 0\n",
    "   for i in range (1,51):\n",
    "    if i % 2 == 0:\n",
    "        total += i\n",
    "   print (\"sum of even numbers from 1 to 50:\",total )     "
   ]
  },
  {
   "cell_type": "code",
   "execution_count": null,
   "metadata": {},
   "outputs": [],
   "source": [
    "\n",
    "Python Basics\n",
    "Q1. Write a Python program to print \"Hello, World!\"\n",
    "\n",
    "[ ]\n",
    "print(\"Hello, World!\")\n",
    "\n",
    "\n",
    "\n",
    "\n",
    "\n",
    "Q2. Write a Python program that displays your name and age.\n",
    "\n",
    "[ ]\n",
    "name = \"John Doe\"\n",
    "age = 25\n",
    "print(f\"My name is {name} and I am {age} years old.\")\n",
    "\n",
    "\n",
    "\n",
    "\n",
    "Q3. Write code to print all the pre-defined keywords in Python using the keyword library.\n",
    "\n",
    "[ ]\n",
    "import keyword\n",
    "print(keyword.kwlist)\n",
    "\n",
    "\n",
    "\n",
    "\n",
    "\n",
    "\n",
    "Q4. Write a program that checks if a given word is a Python keyword.\n",
    "\n",
    "[ ]\n",
    "import keyword\n",
    "word = input(\"Enter a word: \")\n",
    "if keyword.iskeyword(word):\n",
    "    print(f\"{word} is a Python keyword.\")\n",
    "else:\n",
    "    print(f\"{word} is not a Python keyword.\")\n",
    "\n",
    "\n",
    "\n",
    "\n",
    "\n",
    "Q5. Create a list and tuple in Python, and demonstrate how attempting to change an element works differently for each.\n",
    "\n",
    "[ ]\n",
    "my_list = [1, 2, 3]\n",
    "my_tuple = (1, 2, 3)\n",
    "\n",
    "# Modifying list\n",
    "my_list[0] = 10\n",
    "print(\"Modified list:\", my_list)\n",
    "\n",
    "# Trying to modify tuple\n",
    "try:\n",
    "    my_tuple[0] = 10\n",
    "except TypeError as e:\n",
    "    print(\"Error:\", e)\n",
    "\n",
    "\n",
    "\n",
    "Q6. Write a function to demonstrate the behavior of mutable and immutable arguments.\n",
    "\n",
    "[ ]\n",
    "def modify_list(lst):\n",
    "    lst.append(4)\n",
    "\n",
    "def modify_string(s):\n",
    "    s += \" world\"\n",
    "\n",
    "my_list = [1, 2, 3]\n",
    "my_string = \"hello\"\n",
    "\n",
    "modify_list(my_list)\n",
    "print(\"Modified list:\", my_list)\n",
    "\n",
    "modify_string(my_string)\n",
    "print(\"String after function call:\", my_string)\n",
    "\n",
    "\n",
    "\n",
    "\n",
    "Q7. Write a program that performs basic arithmetic operations on two user-input numbers.\n",
    "\n",
    "[ ]\n",
    "num1 = int(input(\"Enter first number: \"))\n",
    "num2 = int(input(\"Enter second number: \"))\n",
    "\n",
    "print(\"Addition:\", num1 + num2)\n",
    "print(\"Subtraction:\", num1 - num2)\n",
    "print(\"Multiplication:\", num1 * num2)\n",
    "print(\"Division:\", num1 / num2 if num2 != 0 else \"Cannot divide by zero\")\n",
    "\n",
    "\n",
    "\n",
    "\n",
    "\n",
    "Q8. Write a program to demonstrate the use of logical operators.\n",
    "\n",
    "[ ]\n",
    "x = True\n",
    "y = False\n",
    "\n",
    "print(\"x and y:\", x and y)\n",
    "print(\"x or y:\", x or y)\n",
    "print(\"not x:\", not x)\n",
    "\n",
    "\n",
    "\n",
    "\n",
    "\n",
    "\n",
    "Q9. Write a Python program to convert user input from string to integer, float, and boolean types.\n",
    "\n",
    "[ ]\n",
    "user_input = input(\"Enter a number: \")\n",
    "\n",
    "int_val = int(user_input)\n",
    "float_val = float(user_input)\n",
    "bool_val = bool(int_val)\n",
    "\n",
    "print(\"Integer:\", int_val)\n",
    "print(\"Float:\", float_val)\n",
    "print(\"Boolean:\", bool_val)\n",
    "\n",
    "\n",
    "\n",
    "\n",
    "Q10. Write code to demonstrate type casting with list elements.\n",
    "\n",
    "[ ]\n",
    "str_list = [\"1\", \"2\", \"3\"]\n",
    "int_list = list(map(int, str_list))\n",
    "print(\"List of integers:\", int_list)\n",
    "\n",
    "\n",
    "\n",
    "Q11. Write a program that checks if a number is positive, negative, or zero.\n",
    "\n",
    "[ ]\n",
    "num = float(input(\"Enter a number: \"))\n",
    "if num > 0:\n",
    "    print(\"Positive\")\n",
    "elif num < 0:\n",
    "    print(\"Negative\")\n",
    "else:\n",
    "    print(\"Zero\")\n",
    "\n",
    "\n",
    "\n",
    "Q12. Write a for loop to print numbers from 1 to 10.\n",
    "\n",
    "[ ]\n",
    "for i in range(1, 11):\n",
    "    print(i)\n",
    "\n",
    "\n",
    "\n",
    "    \n",
    "Q13. Write a Python program to find the sum of all even numbers between 1 and 50.\n",
    "\n",
    "[ ]\n",
    "total = 0\n",
    "for i in range(1, 51):\n",
    "    if i % 2 == 0:\n",
    "        total += i\n",
    "print(\"Sum of even numbers from 1 to 50:\", total)\n"
   ]
  },
  {
   "cell_type": "code",
   "execution_count": null,
   "metadata": {},
   "outputs": [],
   "source": [
    "\n",
    "Python Basics\n",
    "Q1. Write a Python program to print \"Hello, World!\"\n",
    "\n",
    "[ ]\n",
    "print(\"Hello, World!\")\n",
    "Q2. Write a Python program that displays your name and age.\n",
    "\n",
    "[ ]\n",
    "name = \"John Doe\"\n",
    "age = 25\n",
    "print(f\"My name is {name} and I am {age} years old.\")\n",
    "Q3. Write code to print all the pre-defined keywords in Python using the keyword library.\n",
    "\n",
    "[ ]\n",
    "import keyword\n",
    "print(keyword.kwlist)\n",
    "Q4. Write a program that checks if a given word is a Python keyword.\n",
    "\n",
    "[ ]\n",
    "import keyword\n",
    "word = input(\"Enter a word: \")\n",
    "if keyword.iskeyword(word):\n",
    "    print(f\"{word} is a Python keyword.\")\n",
    "else:\n",
    "    print(f\"{word} is not a Python keyword.\")\n",
    "Q5. Create a list and tuple in Python, and demonstrate how attempting to change an element works differently for each.\n",
    "\n",
    "[ ]\n",
    "my_list = [1, 2, 3]\n",
    "my_tuple = (1, 2, 3)\n",
    "\n",
    "# Modifying list\n",
    "my_list[0] = 10\n",
    "print(\"Modified list:\", my_list)\n",
    "\n",
    "# Trying to modify tuple\n",
    "try:\n",
    "    my_tuple[0] = 10\n",
    "except TypeError as e:\n",
    "    print(\"Error:\", e)\n",
    "Q6. Write a function to demonstrate the behavior of mutable and immutable arguments.\n",
    "\n",
    "[ ]\n",
    "def modify_list(lst):\n",
    "    lst.append(4)\n",
    "\n",
    "def modify_string(s):\n",
    "    s += \" world\"\n",
    "\n",
    "my_list = [1, 2, 3]\n",
    "my_string = \"hello\"\n",
    "\n",
    "modify_list(my_list)\n",
    "print(\"Modified list:\", my_list)\n",
    "\n",
    "modify_string(my_string)\n",
    "print(\"String after function call:\", my_string)\n",
    "Q7. Write a program that performs basic arithmetic operations on two user-input numbers.\n",
    "\n",
    "[ ]\n",
    "num1 = int(input(\"Enter first number: \"))\n",
    "num2 = int(input(\"Enter second number: \"))\n",
    "\n",
    "print(\"Addition:\", num1 + num2)\n",
    "print(\"Subtraction:\", num1 - num2)\n",
    "print(\"Multiplication:\", num1 * num2)\n",
    "print(\"Division:\", num1 / num2 if num2 != 0 else \"Cannot divide by zero\")\n",
    "Q8. Write a program to demonstrate the use of logical operators.\n",
    "\n",
    "[ ]\n",
    "x = True\n",
    "y = False\n",
    "\n",
    "print(\"x and y:\", x and y)\n",
    "print(\"x or y:\", x or y)\n",
    "print(\"not x:\", not x)\n",
    "Q9. Write a Python program to convert user input from string to integer, float, and boolean types.\n",
    "\n",
    "[ ]\n",
    "user_input = input(\"Enter a number: \")\n",
    "\n",
    "int_val = int(user_input)\n",
    "float_val = float(user_input)\n",
    "bool_val = bool(int_val)\n",
    "\n",
    "print(\"Integer:\", int_val)\n",
    "print(\"Float:\", float_val)\n",
    "print(\"Boolean:\", bool_val)\n",
    "Q10. Write code to demonstrate type casting with list elements.\n",
    "\n",
    "[ ]\n",
    "str_list = [\"1\", \"2\", \"3\"]\n",
    "int_list = list(map(int, str_list))\n",
    "print(\"List of integers:\", int_list)\n",
    "Q11. Write a program that checks if a number is positive, negative, or zero.\n",
    "\n",
    "[ ]\n",
    "num = float(input(\"Enter a number: \"))\n",
    "if num > 0:\n",
    "    print(\"Positive\")\n",
    "elif num < 0:\n",
    "    print(\"Negative\")\n",
    "else:\n",
    "    print(\"Zero\")\n",
    "Q12. Write a for loop to print numbers from 1 to 10.\n",
    "\n",
    "[ ]\n",
    "for i in range(1, 11):\n",
    "    print(i)\n",
    "Q13. Write a Python program to find the sum of all even numbers between 1 and 50.\n",
    "\n",
    "[ ]\n",
    "total = 0\n",
    "for i in range(1, 51):\n",
    "    if i % 2 == 0:\n",
    "        total += i\n",
    "print(\"Sum of even numbers from 1 to 50:\", total)\n"
   ]
  },
  {
   "cell_type": "code",
   "execution_count": null,
   "metadata": {},
   "outputs": [],
   "source": [
    "Q14. Write a program to reverse a string using a while loop.\n",
    "[]\n",
    "string = input(\"enter a stirng:\")\n",
    "reversed_string = \"\"\n",
    "i = len(string) -1\n",
    "\n",
    "while i>0:\n",
    "    reversed_string  == string[i]\n",
    "    i -=1\n",
    "\n",
    "    print (\"reversed string:\", reversed_string)\n",
    "    "
   ]
  },
  {
   "cell_type": "code",
   "execution_count": null,
   "metadata": {},
   "outputs": [],
   "source": [
    "Q15. Write a Python program to calculate the factorial of a number provided by the user using a while loop.\n",
    "\n",
    "# Get input from the user\n",
    "num = int(input(\"enter a number to calculate its factorial:\"))\n",
    "\n",
    "#initailize variables\n",
    "factorial = 1\n",
    "i = 1\n",
    "\n",
    "#calculate factorial using a while loop \n",
    "while i <= num: \n",
    "    factorial *= i\n",
    " \n",
    "\n",
    "\n",
    "\n",
    "i += 1\n",
    "\n",
    "print (\"the factorial of {num} is : {factorial}\")"
   ]
  }
 ],
 "metadata": {
  "colab": {
   "provenance": []
  },
  "kernelspec": {
   "display_name": "Python 3",
   "name": "python3"
  },
  "language_info": {
   "name": "python"
  }
 },
 "nbformat": 4,
 "nbformat_minor": 0
}
